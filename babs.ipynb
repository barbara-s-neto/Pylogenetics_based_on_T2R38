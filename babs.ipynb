{
 "cells": [
  {
   "cell_type": "markdown",
   "metadata": {},
   "source": [
    "# BioInf"
   ]
  },
  {
   "cell_type": "markdown",
   "metadata": {},
   "source": [
    "## Read Fasta"
   ]
  },
  {
   "cell_type": "code",
   "execution_count": 271,
   "metadata": {},
   "outputs": [],
   "source": [
    "def get_info(filename):\n",
    "    from re import sub, search\n",
    "\n",
    "    res = []\n",
    "    inf = []\n",
    "    sequence = None\n",
    "    info = None\n",
    "    \n",
    "    fh = open(filename)\n",
    "\n",
    "    for line in fh:\n",
    "        if search(\">.*\", line):\n",
    "                if sequence is not None and info is not None and sequence != \"\":\n",
    "                    res.append(sequence)\n",
    "                    inf.append(info)\n",
    "                info = line              \n",
    "                sequence = \"\"\n",
    "        else:\n",
    "            if sequence is None: return None\n",
    "            else: sequence += sub(\"\\s\",\"\",line)\n",
    "\n",
    "    if sequence is not None and info is not None and sequence != \"\":\n",
    "                    res.append(sequence)\n",
    "                    inf.append(info)\n",
    "    fh.close()\n",
    "\n",
    "    return (inf, res)"
   ]
  },
  {
   "cell_type": "code",
   "execution_count": 272,
   "metadata": {},
   "outputs": [],
   "source": [
    "def read_fasta(filename):\n",
    "    dic={}\n",
    "    (infos,sequencias)=get_info(filename)\n",
    "\n",
    "    for i in range(len(infos)):\n",
    "        info=infos[i]\n",
    "        index=info.find(\"[\")\n",
    "        species=info[index+1:-2]\n",
    "        dic[species]=sequencias[i]\n",
    "    return dic\n"
   ]
  },
  {
   "cell_type": "markdown",
   "metadata": {},
   "source": [
    "## Pre-processing of the DNA sequence"
   ]
  },
  {
   "cell_type": "markdown",
   "metadata": {},
   "source": [
    "Validate DNA sequence"
   ]
  },
  {
   "cell_type": "code",
   "execution_count": 273,
   "metadata": {},
   "outputs": [],
   "source": [
    "def validate_dna (dna_seq):\n",
    "    seqm = dna_seq.upper()\n",
    "    valid = seqm.count(\"A\") + seqm.count(\"C\") + seqm.count(\"G\") + seqm.count(\"T\")\n",
    "    if valid == len(seqm): return True\n",
    "    else: return False"
   ]
  },
  {
   "cell_type": "markdown",
   "metadata": {},
   "source": [
    "Get the reverse complement sequence"
   ]
  },
  {
   "cell_type": "code",
   "execution_count": 274,
   "metadata": {},
   "outputs": [],
   "source": [
    "complement={\n",
    "    \"A\": \"T\",\n",
    "    \"T\": \"A\",\n",
    "    \"C\": \"G\",\n",
    "    \"G\": \"C\"\n",
    "}\n",
    "\n",
    "def reverse_complement (dna_seq):\n",
    "    comp=''\n",
    "    for nuc in dna_seq:\n",
    "        comp+=complement[nuc]\n",
    "    \n",
    "    return comp[::-1]"
   ]
  },
  {
   "cell_type": "markdown",
   "metadata": {},
   "source": [
    "Transcription (oculted) and Translation of the DNA sequence into an aminoacids chain"
   ]
  },
  {
   "cell_type": "code",
   "execution_count": 275,
   "metadata": {},
   "outputs": [],
   "source": [
    "def translate_codon (cod):\n",
    "    tc = {\"GCT\":\"A\", \"GCC\":\"A\", \"GCA\":\"A\", \"GCG\":\"A\",\n",
    "      \"TGT\":\"C\", \"TGC\":\"C\",\n",
    "      \"GAT\":\"D\", \"GAC\":\"D\",\n",
    "      \"GAA\":\"E\", \"GAG\":\"E\",\n",
    "      \"TTT\":\"F\", \"TTC\":\"F\",\n",
    "      \"GGT\":\"G\", \"GGC\":\"G\", \"GGA\":\"G\", \"GGG\":\"G\",\n",
    "      \"CAT\":\"H\", \"CAC\":\"H\",\n",
    "      \"ATA\":\"I\", \"ATT\":\"I\", \"ATC\":\"I\",\n",
    "      \"AAA\":\"K\", \"AAG\":\"K\",\n",
    "      \"TTA\":\"L\", \"TTG\":\"L\", \"CTT\":\"L\", \"CTC\":\"L\", \"CTA\":\"L\", \"CTG\":\"L\",\n",
    "      \"ATG\":\"M\", \"AAT\":\"N\", \"AAC\":\"N\",\n",
    "      \"CCT\":\"P\", \"CCC\":\"P\", \"CCA\":\"P\", \"CCG\":\"P\",\n",
    "      \"CAA\":\"Q\", \"CAG\":\"Q\",\n",
    "      \"CGT\":\"R\", \"CGC\":\"R\", \"CGA\":\"R\", \"CGG\":\"R\", \"AGA\":\"R\", \"AGG\":\"R\",\n",
    "      \"TCT\":\"S\", \"TCC\":\"S\", \"TCA\":\"S\", \"TCG\":\"S\", \"AGT\":\"S\", \"AGC\":\"S\",\n",
    "      \"ACT\":\"T\", \"ACC\":\"T\", \"ACA\":\"T\", \"ACG\":\"T\",\n",
    "      \"GTT\":\"V\", \"GTC\":\"V\", \"GTA\":\"V\", \"GTG\":\"V\",\n",
    "      \"TGG\":\"W\",\n",
    "      \"TAT\":\"Y\", \"TAC\":\"Y\",\n",
    "      \"TAA\":\"_\", \"TAG\":\"_\", \"TGA\":\"_\"}\n",
    "    if cod in tc: return tc[cod]\n",
    "    else: return None\n",
    "\n",
    "\n",
    "def translate_seq (dna_seq, ini_pos = 0):\n",
    "    seq_aa = \"\"\n",
    "    for i in range(ini_pos, len(dna_seq)-2, 3):\n",
    "        codon=dna_seq[i]+dna_seq[i+1]+dna_seq[i+2]\n",
    "        seq_aa+=translate_codon(codon)\n",
    "    return seq_aa"
   ]
  },
  {
   "cell_type": "markdown",
   "metadata": {},
   "source": [
    "Compute the (transcription and) translation of the 6 reading frames of the DNA  sequence into aminoacids chains"
   ]
  },
  {
   "cell_type": "code",
   "execution_count": 276,
   "metadata": {},
   "outputs": [],
   "source": [
    "def reading_frames (dna_seq):\n",
    "    res = []\n",
    "    res.append(translate_seq(dna_seq,0))\n",
    "    res.append(translate_seq(dna_seq,1))\n",
    "    res.append(translate_seq(dna_seq,2))\n",
    "    rc = reverse_complement(dna_seq)\n",
    "    res.append(translate_seq(rc,0))\n",
    "    res.append(translate_seq(rc,1))\n",
    "    res.append(translate_seq(rc,2))\n",
    "    return res"
   ]
  },
  {
   "cell_type": "markdown",
   "metadata": {},
   "source": [
    "Search for proteins in a aminoacids chain"
   ]
  },
  {
   "cell_type": "code",
   "execution_count": 277,
   "metadata": {},
   "outputs": [],
   "source": [
    "def all_proteins_rf (aa_seq):\n",
    "    aa_seq = aa_seq.upper()\n",
    "    current_prot = []\n",
    "    proteins = []\n",
    "    for aa in aa_seq:\n",
    "        if aa == \"_\":\n",
    "            if current_prot:\n",
    "                for p in current_prot:\n",
    "                    proteins.append(p)\n",
    "                current_prot = []\n",
    "        else:\n",
    "            if aa == \"M\":\n",
    "                current_prot.append(\"\")\n",
    "            for i in range(len(current_prot)):\n",
    "                current_prot[i] += aa\n",
    "    return proteins"
   ]
  },
  {
   "cell_type": "markdown",
   "metadata": {},
   "source": [
    "Search for all proteins in the six reading frames"
   ]
  },
  {
   "cell_type": "code",
   "execution_count": 278,
   "metadata": {},
   "outputs": [],
   "source": [
    "def all_orfs (dna_seq):\n",
    "    res = []\n",
    "    translations= reading_frames(dna_seq)\n",
    "    \n",
    "    for trans in translations:\n",
    "        res+=all_proteins_rf(trans)\n",
    "                \n",
    "    return res"
   ]
  },
  {
   "cell_type": "markdown",
   "metadata": {},
   "source": [
    "Acording to research this protein has more than 270 aminoacids in every species to be analised"
   ]
  },
  {
   "cell_type": "code",
   "execution_count": 279,
   "metadata": {},
   "outputs": [],
   "source": [
    "def all_orfs_longproteins (dna_seq, minsize = 270):\n",
    "    \n",
    "    all = all_orfs(dna_seq)\n",
    "    res=[]\n",
    "    for s in all:\n",
    "        if len(s)>minsize:\n",
    "            res.append(s)\n",
    "    \n",
    "    res2=sorted(res, key=len)\n",
    "\n",
    "    return res2"
   ]
  },
  {
   "cell_type": "markdown",
   "metadata": {},
   "source": [
    "Program that performs this analysis when given a DNA sequence and returns a list of long proteins"
   ]
  },
  {
   "cell_type": "code",
   "execution_count": 280,
   "metadata": {},
   "outputs": [],
   "source": [
    "def pre_process(dna):\n",
    "    assert validate_dna(dna), \"Invalid DNA sequence\"\n",
    "    return all_orfs_longproteins(dna)"
   ]
  },
  {
   "cell_type": "markdown",
   "metadata": {},
   "source": [
    "## MSA"
   ]
  },
  {
   "cell_type": "markdown",
   "metadata": {},
   "source": [
    "não sei oq eq isso significa, problemas para mais tarde"
   ]
  },
  {
   "cell_type": "markdown",
   "metadata": {},
   "source": [
    "## Main Project"
   ]
  },
  {
   "cell_type": "markdown",
   "metadata": {},
   "source": [
    "Protein fasta - resulting from downloading by Smart-blast-p search: https://blast.ncbi.nlm.nih.gov/Blast.cgi\n",
    "\n",
    "DNA fasta - resulting from downloading by blast search: https://blast.ncbi.nlm.nih.gov/Blast.cgi"
   ]
  },
  {
   "cell_type": "code",
   "execution_count": 281,
   "metadata": {},
   "outputs": [],
   "source": [
    "def main(filename, type, n=10):\n",
    "    if type==\"aa\":\n",
    "        protein_by_species = read_fasta(filename)\n",
    "\n",
    "    elif type==\"dna\":\n",
    "        dna_by_species = read_fasta(filename)\n",
    "        protein_by_species={}\n",
    "\n",
    "        for species in dna_by_species.keys():\n",
    "            protein=pre_process(dna_by_species[species])[0]\n",
    "            protein_by_species[species]=protein\n",
    "\n",
    "    return protein_by_species"
   ]
  },
  {
   "cell_type": "markdown",
   "metadata": {},
   "source": [
    "## Testar o código"
   ]
  },
  {
   "cell_type": "markdown",
   "metadata": {},
   "source": [
    "Testar o código com as 11 sequencias de aa que saquei da net atraves do link do blast"
   ]
  },
  {
   "cell_type": "code",
   "execution_count": 282,
   "metadata": {},
   "outputs": [
    {
     "name": "stdout",
     "output_type": "stream",
     "text": [
      "{'Homo sapiens': 'MLTLTRIRTVSYEVRSTFLFISVLEFAVGFLTNAFVFLVNFWDVVKRQALSNSDCVLLCLSISRLFLHGLLFLSAIQLTHFQKLSEPLNHSYQAIIMLWMIANQANLWLAACLSLLYCSKLIRFSHTFLICLASWVSRKISQMLLGIILCSCICTVLCVWCFFSRPHFTVTTVLFMNNNTRLNWQIKDLNLFYSFLFCYLWSVPPFLLFLVSSGMLTVSLGRHMRTMKVYTRNSRDPSLEAHIKALKSLVSFFCFFVISSCAAFISVPLLILWRDKIGVMVCVGIMAACPSGHAAILISGNAKLRRAVMTILLWAQSSLKVRADHKADSRTLC', 'Pan troglodytes': 'MLTLTRIHTVSYEVRSTFLFISVLEFAVGFLTNAFVFLVNFWDVVKRQPLSNSDCVLLCLSISRLFLHGLLFLSAIQLTHFQKLSEPLNHSYQAIIMLWMIANQANLWLAACLSLLYCSKLIRFSHTFLICLASWVSRKISQMLLGIILCSCICTVLCVWCFFSRPHFTVTTVLFMNNNTRLNWQIKDLNLFYSFLFCYLWSVPPFLLFLVSSGMLTVSLGRHMRTMKVYTRDSRDPSLEAHIKALKSLVSFFCFFVISSCAAFISVPLLILWRDKIGVMVCVGIMAACPSGHAAVLISGNAKLRRAVTTILLWAQSSLKVRADHKADSRTLC', 'Gorilla gorilla gorilla': 'MLTLTRIRTVSYEVRSTFLFISVLEFAVGFLTNAFVFLVNFWDVVKRQPLSNSDCVLLCLSISRLFLHGLLFLSAIQLTHFQKLSEPLNHSYQAIIMLWMIANQANLWLAACLSLLYCSKLIRFSHTFLICLASWVSRKISQMLLGIILCSCICTVLCVWCFFSRPHFTVTTVLFMNNNTRLNWQIKDLNLFYSFLFCYLWSVPPFLLFLVSSGMLTVSLGRHMRTMKVYIRDSRDPSLEAHIKALKSLVSFFCFFVISSCAAFISVPLLILWRDKIGVMVCVGIMAACPSGHAAVLISGNAKLRRAVTTILLWAQSSLKVRADHKADSRTPC', 'Pan paniscus': 'MLTLTRIHTVSYEVRSTFLFISVLEFAVGFLTNAFVFLVNFWDVVKRQPLSNSDCVLLCLSISRLFLHGLLFLSAIQLTHFQKLSEPLNHSYQAINMLWMIANQANLWLAACLSLLYCSKLIRFSHTFLICLASWVSRKISQMLLGIILCSCICTVLCVWCFFSRPHFTVTTVLFMNNNTRLNWQIKDLNLFYSFLFCYLWSVPPFLLFLVSSGMLTVSLGRHMRTMKVYTRDSRDPSLEAHIKALKSLVSFFCFFVISSCAAFISVPLLILWRDKIGVMVCVGIMAACPSGHAAVLISGNAKLRRAVTTILLWAQSSLKVRADHKADSRTLC', 'Pongo pygmaeus': 'MLTLTHICAVSYEVRSTFLFISVLEFAVGFLTNAFIFLVNFWDVVKRQPLSNSDCVLLCLSISRLFLHGLLFLSAIQLTHFQKLSEPLNHSYQAIIMLWIIANQANLWLAACLSLLYCSKLIRFSHTFLICLASWVSRKISQMLLGIILCSCICTVLCVWCFFSRPHFTVTTFLFMNNNTRLNWQIKDLNLFYSFLFCYLWSVPPFLLFLVSSGMLTVSLGRHMRTMKVYTRDSRDPSLEAHIKALKSLVSFFCFFVISSCAAFISVPLLILWRNKIGVMVCVGIMAACPSGHAGVLISGNATLRRAVTTILLWAQSSMKVKADHKADSRTLC', 'Nomascus leucogenys': 'MLTLTRICTVSYEIRNTFLFISVLEFAVGFLTNAFIFLVNFWDVVKRQPLSNSDCVLLCLSISRLFLHGLLFLSAIQLTHFQKLSEPLNRSYQAIIMLWMIANQANLWLATCLSLLYCSKLIRFSHTFLICLASWVSRKISQMLLGIILCSCICTVLCVWCYFSRPHFTVTTVLFMNNNTRLNWQIKDLNLFYSFLFCYLWSVPPFLLFLVSSGMLTVSLGRHMRTMKVYTRDFRDPSLEAHIKALKSLVSFFCFFVISSCAAFISVPLLILWRDKIGVMVCVGIMAACPSGHAAILISGNAKLRRAVTTILLWAQSSLKVRADHKADSRTLC', 'Symphalangus syndactylus': 'MLTLTRICTVSYEIRSTFLFISVLEFAVGFLTNAFIFLVNFWDVVKRQPLSNSDCVLLCLSISRLFLHGLLFLSAIQLTHFQKLSEPLNHXYQAIIMLWMIANKANLWLATCLSLLYCSKLIHFSHTFLICLASWVSRKISQILLGIILCSCICTVLCVWCYFSRPHFTVTTVLFMNNSTRLNWQIKDLNLFYSFLFCYLWSVPPFLLFLVSSGMLTVSLGRHMRTMKVYTRDFRDPSLEAHIKALKSLVSFFCFFVISSCAAFISVPLLILWRDKIGVMVCVGIMAACPSGHAAILISGNAKLRRAVTTILLWAQSSLKVRADHKADSRTLC', 'Pongo abelii': 'MLTLTRICAVSYEVRSTFLFISVLEFAVGFLTNAFIFLVNFWDVVKRQPLSNSDCVLLCLSISRLFLHGLLFLSAIQLTHFQKLSEPLNHSYQAIIMLWIIASQANLWLAACLSLLYCSKLIRFSHTFLICLASWVSRKISQMPLGIILCSCICTVLCVWCFFSRPHFTVTTFLFMNNNARLNWQIKDLNLFYSFLFCYLWSVPPFLLFLVSSGMLTVSLGRHMRTMKVYTRDSRDPSLEAHIKALKSLVSFFCFFVISSCAAFISVPLLILWRNKIGVMVCVGIMAACPSGHAAVLISGNAKLRRAVTTILLWAQSSMKVRADHKADSRTLC', 'Hylobates moloch': 'MLTLTRICTVSYEVRSTFLFISVLEFAVGFLTNAFIFLVNFWDVVKRQPLSNSDCVLLCLSISRLFLHGLLFLSAIQLTHFQKLSEPLNHSYHAIIMLWMIANQANLWLATCLSLLYCSKLIRSSHTFLICLASWVSRKICQMLLGIILCSCICTVLCVWCYFSRPHFTVTTVLFTNNNTRLNWQIKDLNLFYSFLFCYLWSVPPFLLFLVSSGMLTVSLGRHMRTMKVYTRDFRDPSLEAHIKALKSLVSFFCFFVISSCAAFISVPLLILWRDKIGVMVCVGIMAACPSGHAAILISGNAKLRRAVTTILLWAQSSLKVRADHKADSRTLC', 'Macaca thibetana thibetana': 'MLTLTHICTVSYEVRSTFLFISVLEFAVGFLTNAFISLVNFWDVVKRQPLSNSDCVLLCLSISRLFLHGLLFLSAIQLTHFQKLSEPLNHSYQAILMLWMIANQANLWLAACLSLLYCSKLIRFSHTFLICLASWVSRKISQMLLGIILCSCICTVLCVWCFFGRLHFTVTTVLFMNNNTRLNWQIKDLNLFYSFLFCYLWSVPPFLLFLVSSGMLTVSLGRHMRTMKVYTRDSRDPSLEAHIKALKSLISFFCFFVISSCAAFISVPLLILWHDKIGVMVCVGIMAACPSGHAAVLISGNAKLRRAVTTILLWAQSSLKVRADHMADSRTLC'}\n"
     ]
    }
   ],
   "source": [
    "print(main(\"seqdump.txt\", \"aa\", 12))"
   ]
  },
  {
   "cell_type": "markdown",
   "metadata": {},
   "source": [
    "Testar usando o \"fasta\" do professor - mexi no documento para ficar em conta de como o blast faz o download automatico de ficheiros, mas isto dps tem de ser visto com cuidado e falado com o stor"
   ]
  },
  {
   "cell_type": "code",
   "execution_count": 283,
   "metadata": {},
   "outputs": [
    {
     "name": "stdout",
     "output_type": "stream",
     "text": [
      "{'Homo sapiens': 'MLTLTRIRTVSYEVRSTFLFISVLEFAVGFLTNAFVFLVNFWDVVKRQALSNSDCVLLCLSISRLFLHGLLFLSAIQLTHFQKLSEPLNHSYQAIIMLWMIANQANLWLAACLSLLYCSKLIRFSHTFLICLASWVSRKISQMLLGIILCSCICTVLCVWCFFSRPHFTVTTVLFMNNNTRLNWQIKDLNLFYSFLFCYLWSVPPFLLFLVSSGMLTVSLGRHMRTMKVYTRNSRDPSLEAHIKALKSLVSFFCFFVISSCAAFISVPLLILWRDKIGVMVCVGIMAACPSGHAAILISGNAKLRRAVMTILLWAQSSLKVRADHKADSRTLC'}\n"
     ]
    }
   ],
   "source": [
    "print(main(\"sequence_Homo_sapiens.fasta\", \"dna\", 12))"
   ]
  },
  {
   "cell_type": "markdown",
   "metadata": {},
   "source": [
    "## Bibliography"
   ]
  },
  {
   "cell_type": "markdown",
   "metadata": {},
   "source": [
    "https://www.ncbi.nlm.nih.gov\n",
    "\n",
    "https://blast.ncbi.nlm.nih.gov\n",
    "\n",
    "Professor's notes and programs"
   ]
  }
 ],
 "metadata": {
  "kernelspec": {
   "display_name": "Python 3",
   "language": "python",
   "name": "python3"
  },
  "language_info": {
   "codemirror_mode": {
    "name": "ipython",
    "version": 3
   },
   "file_extension": ".py",
   "mimetype": "text/x-python",
   "name": "python",
   "nbconvert_exporter": "python",
   "pygments_lexer": "ipython3",
   "version": "3.10.12"
  }
 },
 "nbformat": 4,
 "nbformat_minor": 2
}
